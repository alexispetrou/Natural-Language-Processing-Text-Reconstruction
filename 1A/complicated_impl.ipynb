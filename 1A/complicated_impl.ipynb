{
 "cells": [
  {
   "cell_type": "markdown",
   "id": "fc5fdafc",
   "metadata": {},
   "source": [
    "# Αυτό το αρχείο αποτελεί μια εναλλακτική προσέγγιση για την υλοποίηση της λύσης του ερωτήματος 1Α"
   ]
  },
  {
   "cell_type": "markdown",
   "id": "f525c234",
   "metadata": {},
   "source": [
    "### Αρχικά θα κάνουμε import τις βιβλιοθήκες που θα χρειαστούμε"
   ]
  },
  {
   "cell_type": "code",
   "execution_count": 1,
   "id": "4733ea7e",
   "metadata": {},
   "outputs": [],
   "source": [
    "import nltk\n",
    "from nltk.tokenize import TreebankWordTokenizer\n",
    "from nltk import pos_tag"
   ]
  },
  {
   "cell_type": "markdown",
   "id": "940a1346",
   "metadata": {},
   "source": [
    "#### Τώρα δηλώνουμε το tokenaizer που θα χρησιμοποιήσουμε"
   ]
  },
  {
   "cell_type": "code",
   "execution_count": 2,
   "id": "21498136",
   "metadata": {},
   "outputs": [],
   "source": [
    "tokenizer = TreebankWordTokenizer()\n",
    "#nltk.download('punkt')\n",
    "#nltk.download('averaged_perceptron_tagger')\n",
    "#nltk.download('averaged_perceptron_tagger_eng')"
   ]
  },
  {
   "cell_type": "markdown",
   "id": "14a3b113",
   "metadata": {},
   "source": [
    "# Έξυπνη Γραμματική Διόρθωση: Αυτόματη διόρθωση κειμένου με NLP\n",
    "\n",
    "Αυτή η Python συνάρτηση `smart_grammar_fix()` υλοποιεί έξυπνους κανόνες γραμματικής διόρθωσης χρησιμοποιώντας τεχνικές επεξεργασίας φυσικής γλώσσας.\n",
    "\n",
    "## 📌 Βασική Λειτουργικότητα\n",
    "Η συνάρτηση αναλύει και διορθώνει συνηθισμένα γραμματικά λάθη σε αγγλικές προτάσεις μέσω:\n",
    "\n",
    "1. **Τμηματοποίησης και POS ετικετών** (Part-of-Speech tagging)\n",
    "2. Εφαρμογής **κανόνων γραμματικής με γνώση περιβάλλοντος**\n",
    "3. Ανασύνθεσης της διορθωμένης πρότασης\n",
    "\n",
    "## 🔧 Βασικές Διορθώσεις\n",
    "\n",
    "### Κανόνας A – Συμφωνία Υποκειμένου και Ρήματος\n",
    "\n",
    "Αν εντοπιστεί ότι το υποκείμενο της πρότασης είναι πληθυντικός (δηλαδή έχει POS ετικέτα \"NNS\") και ακολουθεί το ρήμα \"was\", τότε το ρήμα διορθώνεται σε \"were\". Αυτός ο κανόνας διορθώνει ασυμφωνίες αριθμού μεταξύ υποκειμένου και ρήματος, διασφαλίζοντας τη σωστή γραμματική δομή.\n",
    "\n",
    "### Κανόνας B – Εισαγωγή του άρθρου \"the\" όταν λείπει\n",
    "\n",
    "Όταν εμφανίζονται λέξεις όπως \"reviewer\" ή \"editor\" χωρίς να προηγείται άρθρο ή επίθετο, εισάγεται το άρθρο \"the\" πριν από αυτές. Στόχος είναι να αποκατασταθεί η φυσική ροή και η ορθότητα της αγγλικής σύνταξης, η οποία στις περισσότερες περιπτώσεις απαιτεί άρθρο μπροστά από τέτοιου τύπου ουσιαστικά.\n",
    "\n",
    "### Κανόνας Γ – Αντικατάσταση της αντωνυμίας \"it\" με \"they\" όταν το υποκείμενο είναι πληθυντικός\n",
    "\n",
    "Όταν το αρχικό υποκείμενο είναι πληθυντικός και στη συνέχεια γίνεται χρήση της αντωνυμίας \"it\", η συνάρτηση την αντικαθιστά με το \"they\" για να διατηρηθεί η συμφωνία αριθμού μεταξύ υποκειμένου και αντωνυμίας.\n",
    "\n",
    "### Κανόνας Δ – Μετατροπή της έκφρασης \"it/they not included\" σε \"it/they did not include\"\n",
    "\n",
    "Σε περιπτώσεις όπου υπάρχει η φράση \"it not included\" ή \"they not included\", η δομή μετατρέπεται στη σωστή ενεργητική μορφή \"it did not include\" ή \"they did not include\". Αυτό διορθώνει ένα συχνό λάθος που σχετίζεται με λανθασμένη χρήση του παθητικού λόγου ή ελλιπή σχηματισμό του αρνητικού ρήματος."
   ]
  },
  {
   "cell_type": "code",
   "execution_count": 3,
   "id": "671d0d3a",
   "metadata": {},
   "outputs": [],
   "source": [
    "def smart_grammar_fix(sent):\n",
    "    # 1) Tokenize & POS‐tag\n",
    "    tokens = tokenizer.tokenize(sent)\n",
    "    tags   = pos_tag(tokens)\n",
    "\n",
    "    # We'll build a parallel list of fixed tokens\n",
    "    fixed_tokens = tokens[:]\n",
    "\n",
    "    # Figure out if the subject is plural (NNS) or singular (NN)\n",
    "    subject_tag = next((t for w,t in tags if t in ('NN','NNS')), None)\n",
    "\n",
    "    # 2) One pass over all tokens\n",
    "    for i, (word, tag) in enumerate(tags):\n",
    "        lw = word.lower()\n",
    "\n",
    "        # A) Plural subject + \"was\" → \"were\"\n",
    "        if i>0 and lw=='was' and tags[i-1][1]=='NNS':\n",
    "            fixed_tokens[i] = 'were'\n",
    "\n",
    "        # B) Insert \"the\" before reviewer/editor when missing\n",
    "        if lw in ('reviewer','editor') and tag in ('NN','NNS') \\\n",
    "           and i>0 and tags[i-1][1] not in ('DT','JJ'):\n",
    "            fixed_tokens.insert(i, 'the')\n",
    "            # No need to touch tags anymore since we won't look at them again\n",
    "\n",
    "        # C) Plural subject → \"they\"\n",
    "        if subject_tag=='NNS' and lw=='it':\n",
    "            fixed_tokens[i] = 'they'\n",
    "\n",
    "        # D) \"it/they not included\" → \"it/they did not include\"\n",
    "        if i>=2 \\\n",
    "           and fixed_tokens[i-2].lower() in ('it','they') \\\n",
    "           and fixed_tokens[i-1].lower()=='not' \\\n",
    "           and lw=='included':\n",
    "            pron = fixed_tokens[i-2]\n",
    "            fixed_tokens[i-2:i+1] = [pron, 'did', 'not', 'include']\n",
    "            # done—no further changes needed\n",
    "\n",
    "    # Re-join and clean stray spaces before punctuation\n",
    "    out = ' '.join(fixed_tokens)\n",
    "    return out.replace(' ,',',').replace(' .','.').replace(' ?','?')"
   ]
  },
  {
   "cell_type": "markdown",
   "id": "ae9dcb06",
   "metadata": {},
   "source": [
    "### Αυτό το σημείο αποτελεί την main του προγράμματος"
   ]
  },
  {
   "cell_type": "code",
   "execution_count": 4,
   "id": "d9253979",
   "metadata": {},
   "outputs": [
    {
     "name": "stdout",
     "output_type": "stream",
     "text": [
      "Original: but the updates was confusing as it not included the full feedback from reviewer or maybe editor?\n",
      "Corrected: but the updates were confusing as they did not include the full feedback the from reviewer the or maybe editor?\n"
     ]
    }
   ],
   "source": [
    "sentence = (\n",
    "    \"but the updates was confusing as it not included the full feedback from reviewer or maybe editor?\"\n",
    ")\n",
    "new_sentence=smart_grammar_fix(sentence)\n",
    "print(\"Original:\", sentence)\n",
    "print(\"Corrected:\", new_sentence)"
   ]
  },
  {
   "cell_type": "markdown",
   "id": "d9d12100",
   "metadata": {},
   "source": [
    "### Σωστή πρόταση από το Chat gpt "
   ]
  },
  {
   "cell_type": "code",
   "execution_count": 5,
   "id": "4f9c0e7a",
   "metadata": {},
   "outputs": [],
   "source": [
    "chat_gpt=\"But the updates were confusing as they did not include the full feedback from the reviewer or maybe the editor.\""
   ]
  },
  {
   "cell_type": "markdown",
   "id": "30aa8144",
   "metadata": {},
   "source": [
    "## Θα συγκρίνουμε την δικιά μας σωστή με αυτή του ChatGPT\n",
    "Για να το καταφέρουμε αυτό, θα χρησιμοποιήσουμε τη μέθοδο TF-IDF (Term Frequency-Inverse Document Frequency) και τη συνάφεια συνημιτόνου (cosine similarity).\n",
    "\n",
    "Αυτή η προσέγγιση μας επιτρέπει να συγκρίνουμε τις δύο διορθωμένες προτάσεις μετρώντας την ομοιότητά τους ως διανύσματα σε πολυδιάστατο χώρο:\n",
    "## Βήματα:\n",
    "Tokenization: Κάθε πρόταση χωρίζεται σε λέξεις (tokens).\n",
    "\n",
    "Λεξιλόγιο: Δημιουργούμε το πλήρες λεξιλόγιο όλων των λέξεων στις δύο προτάσεις.\n",
    "\n",
    "TF (Term Frequency): Υπολογίζουμε τη σχετική συχνότητα εμφάνισης κάθε λέξης σε κάθε πρόταση.\n",
    "\n",
    "IDF (Inverse Document Frequency): Υπολογίζουμε πόσο \"σημαντική\" είναι κάθε λέξη.\n",
    "\n",
    "TF-IDF πίνακας: Πολλαπλασιάζουμε τα TF με τα IDF για κάθε λέξη.\n",
    "\n",
    "Συνάρτηση cosine similarity: Υπολογίζουμε την ομοιότητα των δύο προτάσεων ως διανύσματα"
   ]
  },
  {
   "cell_type": "code",
   "execution_count": 6,
   "id": "4e7e5117",
   "metadata": {},
   "outputs": [],
   "source": [
    "from collections import Counter\n",
    "import numpy as np\n",
    "\n",
    "sentences = [new_sentence, chat_gpt]\n",
    "tokenized = [s.lower().split() for s in sentences]\n",
    "vocab = sorted(set(word for doc in tokenized for word in doc))\n"
   ]
  },
  {
   "cell_type": "code",
   "execution_count": 7,
   "id": "c1f2bdb1",
   "metadata": {},
   "outputs": [],
   "source": [
    "tf_matrix = []\n",
    "for doc in tokenized:\n",
    "    word_counts = Counter(doc)\n",
    "    tf_vector = [word_counts[word] / len(doc) for word in vocab]\n",
    "    tf_matrix.append(tf_vector)\n"
   ]
  },
  {
   "cell_type": "code",
   "execution_count": 8,
   "id": "1590fdc9",
   "metadata": {},
   "outputs": [],
   "source": [
    "N = len(tokenized) \n",
    "df_vector = [sum(1 for doc in tokenized if word in doc) for word in vocab]\n",
    "idf_vector = [np.log((N + 1) / (df + 1)) + 1 for df in df_vector]\n",
    "tfidf_matrix = np.array(tf_matrix) * np.array(idf_vector)\n"
   ]
  },
  {
   "cell_type": "code",
   "execution_count": null,
   "id": "e3e83982",
   "metadata": {},
   "outputs": [],
   "source": []
  },
  {
   "cell_type": "code",
   "execution_count": 18,
   "id": "465b013d",
   "metadata": {},
   "outputs": [
    {
     "name": "stdout",
     "output_type": "stream",
     "text": [
      "Cosine Similarity: 0.9400966710533991\n"
     ]
    },
    {
     "data": {
      "image/png": "[encoded data removed]",
      "text/plain": [
       "<Figure size 600x150 with 1 Axes>"
      ]
     },
     "metadata": {},
     "output_type": "display_data"
    }
   ],
   "source": [
    "import numpy as np\n",
    "import matplotlib.pyplot as plt\n",
    "\n",
    "def cosine_similarity(v1, v2):\n",
    "    return np.dot(v1, v2) / (np.linalg.norm(v1) * np.linalg.norm(v2))\n",
    "\n",
    "similarity = cosine_similarity(tfidf_matrix[0], tfidf_matrix[1])\n",
    "print(f\"Cosine Similarity: {similarity}\")\n",
    "\n",
    "plt.figure(figsize=(6, 1.5))\n",
    "bars = plt.barh(['Similarity'], [similarity], color='mediumseagreen')\n",
    "plt.xlim(0, 1)\n",
    "plt.xlabel('Cosine Similarity')\n",
    "plt.title('''Cosine Similarity between Vector 0(reconstructed sentence) and Vector 1(chat gpt's sentence)''')\n",
    "plt.grid(axis='x')\n",
    "\n",
    "# Προσθήκη του αριθμού πάνω στο bar\n",
    "for bar in bars:\n",
    "    width = bar.get_width()\n",
    "    plt.text(width + 0.065, bar.get_y() + bar.get_height()/2,\n",
    "             f'{width:.3f}', va='center', fontsize=12)\n",
    "\n",
    "plt.show()\n"
   ]
  },
  {
   "cell_type": "code",
   "execution_count": 12,
   "id": "559d8a28",
   "metadata": {},
   "outputs": [
    {
     "data": {
      "image/png": "[encoded data removed]",
      "text/plain": [
       "<Figure size 800x600 with 2 Axes>"
      ]
     },
     "metadata": {},
     "output_type": "display_data"
    }
   ],
   "source": [
    "import seaborn as sns\n",
    "n = tfidf_matrix.shape[0]\n",
    "similarity_matrix = np.zeros((n, n))\n",
    "\n",
    "for i in range(n):\n",
    "    for j in range(n):\n",
    "        similarity_matrix[i, j] = cosine_similarity(tfidf_matrix[i], tfidf_matrix[j])\n",
    "\n",
    "# Plot heatmap\n",
    "plt.figure(figsize=(8, 6))\n",
    "sns.heatmap(similarity_matrix, annot=True, cmap='coolwarm', vmin=0, vmax=1)\n",
    "plt.title('Cosine Similarity Heatmap')\n",
    "plt.xlabel(\"our sentence\")\n",
    "plt.ylabel(\"chat pts's sentence\")\n",
    "plt.show()"
   ]
  }
 ],
 "metadata": {
  "kernelspec": {
   "display_name": "Python 3",
   "language": "python",
   "name": "python3"
  },
  "language_info": {
   "codemirror_mode": {
    "name": "ipython",
    "version": 3
   },
   "file_extension": ".py",
   "mimetype": "text/x-python",
   "name": "python",
   "nbconvert_exporter": "python",
   "pygments_lexer": "ipython3",
   "version": "3.10.11"
  }
 },
 "nbformat": 4,
 "nbformat_minor": 5
}
