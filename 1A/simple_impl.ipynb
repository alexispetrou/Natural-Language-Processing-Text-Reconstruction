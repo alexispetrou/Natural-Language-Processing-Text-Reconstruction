{
 "cells": [
  {
   "cell_type": "markdown",
   "metadata": {},
   "source": [
    " ## Εκφώνηση ερωτήματος 1-Α:\n",
    "\n",
    " #### Aνακατασκευή  2 προτάσεων της επιλογής σας με αυτόματο  που θα διαμορφώσετε εσείς."
   ]
  },
  {
   "cell_type": "markdown",
   "metadata": {},
   "source": [
    " ### Οι βιβλιοθήκες που θα χρειαστούμε για το ερώτημα 1-Α"
   ]
  },
  {
   "cell_type": "code",
   "execution_count": 32,
   "metadata": {},
   "outputs": [],
   "source": [
    "import re\n",
    "import nltk\n",
    "from nltk.corpus import treebank\n"
   ]
  },
  {
   "cell_type": "markdown",
   "metadata": {},
   "source": [
    " ###   Οι 2 προτάσεις που επιλέξαμε"
   ]
  },
  {
   "cell_type": "code",
   "execution_count": 33,
   "metadata": {},
   "outputs": [],
   "source": [
    "sentence1=\"Hope you too, to enjoy it as my deepest wishes.\"\n",
    "sentence2=\"...\"\n"
   ]
  },
  {
   "cell_type": "markdown",
   "metadata": {},
   "source": [
    " ### Εδώ γράφουμε την σωστή μορφή αυτών των προτάσεων"
   ]
  },
  {
   "cell_type": "code",
   "execution_count": 34,
   "metadata": {},
   "outputs": [],
   "source": [
    "sentence1_correct=\"I hope you enjoy it as well, with my deepest wishes.\"\n",
    "sentence2_correct=\"...\"\n"
   ]
  },
  {
   "cell_type": "markdown",
   "metadata": {},
   "source": [
    " ### Πρέπει αρχικά να κάνουμε Tokenization  στις προτάσεις"
   ]
  },
  {
   "cell_type": "code",
   "execution_count": 35,
   "metadata": {},
   "outputs": [],
   "source": [
    "pattern=r\"\\b\\w+\\b\"\n",
    "tokens1 = re.findall(pattern, sentence1.lower())\n",
    "tokens1_correct = re.findall(pattern, sentence1_correct.lower())\n"
   ]
  },
  {
   "cell_type": "markdown",
   "metadata": {},
   "source": [
    " ###  Εκτυπώνουμε τα tokens για την σωστή και λάθος μορφή της πρότασης"
   ]
  },
  {
   "cell_type": "code",
   "execution_count": 36,
   "metadata": {},
   "outputs": [
    {
     "data": {
      "text/plain": [
       "['hope', 'you', 'too', 'to', 'enjoy', 'it', 'as', 'my', 'deepest', 'wishes']"
      ]
     },
     "execution_count": 36,
     "metadata": {},
     "output_type": "execute_result"
    }
   ],
   "source": [
    "tokens1\n"
   ]
  },
  {
   "cell_type": "code",
   "execution_count": 37,
   "metadata": {},
   "outputs": [
    {
     "data": {
      "text/plain": [
       "['i',\n",
       " 'hope',\n",
       " 'you',\n",
       " 'enjoy',\n",
       " 'it',\n",
       " 'as',\n",
       " 'well',\n",
       " 'with',\n",
       " 'my',\n",
       " 'deepest',\n",
       " 'wishes']"
      ]
     },
     "execution_count": 37,
     "metadata": {},
     "output_type": "execute_result"
    }
   ],
   "source": [
    "tokens1_correct\n"
   ]
  },
  {
   "cell_type": "markdown",
   "metadata": {},
   "source": [
    " ### Φτιάχνουμε γραμματική για τις 2 προτάσεις"
   ]
  },
  {
   "cell_type": "code",
   "execution_count": 38,
   "metadata": {},
   "outputs": [],
   "source": [
    "grammar1 = nltk.CFG.fromstring(\"\"\"\n",
    "    S -> V_Wish NP_Who Adv V_Action NP_What PP_Wish\n",
    "    V_Wish -> 'hope'\n",
    "    NP_Who -> 'you'\n",
    "    Adv -> 'too'\n",
    "    V_Action -> 'to' 'enjoy'\n",
    "    NP_What -> 'it'\n",
    "    PP_Wish -> 'as' 'my' 'deepest' 'wishes'\n",
    "\"\"\")\n"
   ]
  },
  {
   "cell_type": "code",
   "execution_count": 39,
   "metadata": {},
   "outputs": [],
   "source": [
    "grammar2 = nltk.CFG.fromstring(\"\"\"\n",
    "S -> NP VP\n",
    "VP -> V S\n",
    "S -> NP VP_Extended\n",
    "\n",
    "VP_Extended -> V NP Adv PP\n",
    "\n",
    "NP -> Pronoun | PossPronoun Adj N\n",
    "V -> 'hope' | 'enjoy'\n",
    "Adv -> 'as_well'\n",
    "PP -> Prep NP\n",
    "\n",
    "Prep -> 'with'\n",
    "PossPronoun -> 'my'\n",
    "Adj -> 'deepest'\n",
    "N -> 'wishes'\n",
    "Pronoun -> 'i' | 'you' | 'it'\n",
    "\"\"\")\n"
   ]
  },
  {
   "cell_type": "code",
   "execution_count": 40,
   "metadata": {},
   "outputs": [
    {
     "name": "stdout",
     "output_type": "stream",
     "text": [
      "                                 S                                     \n",
      "   ______________________________|__________________                    \n",
      "V_Wish NP_Who Adv     V_Action       NP_What     PP_Wish               \n",
      "  |      |     |    _____|_______       |      _____|______________     \n",
      " hope   you   too  to          enjoy    it    as    my   deepest wishes\n",
      "\n"
     ]
    }
   ],
   "source": [
    "parser = nltk.ChartParser(grammar1)\n",
    "# Parse and display trees\n",
    "\n",
    "for tree in parser.parse(tokens1):\n",
    "    tree.pretty_print()\n",
    "    found_trees = True\n"
   ]
  },
  {
   "cell_type": "code",
   "execution_count": null,
   "metadata": {},
   "outputs": [
    {
     "name": "stdout",
     "output_type": "stream",
     "text": [
      "         S                                                                           \n",
      "    _____|_____________                                                               \n",
      "   |                   VP                                                            \n",
      "   |      _____________|______________                                                \n",
      "   |     |                            S                                              \n",
      "   |     |       _____________________|_________                                      \n",
      "   |     |      |                          VP_Extended                               \n",
      "   |     |      |       ________________________|___________________                  \n",
      "   |     |      |      |      |       |                             PP               \n",
      "   |     |      |      |      |       |          ___________________|_____            \n",
      "   NP    |      NP     |      NP      |         |                         NP         \n",
      "   |     |      |      |      |       |         |            _____________|______     \n",
      "Pronoun  V   Pronoun   V   Pronoun   Adv       Prep    PossPronoun       Adj     N   \n",
      "   |     |      |      |      |       |         |           |             |      |    \n",
      "   i    hope   you   enjoy    it   as_well     with         my         deepest wishes\n",
      "\n"
     ]
    }
   ],
   "source": [
    "parser = nltk.ChartParser(grammar2)\n",
    "\n",
    "tokens1_correct=['i',\n",
    " 'hope',\n",
    " 'you',\n",
    " 'enjoy',\n",
    " 'it',\n",
    " 'as_well',\n",
    " 'with',\n",
    " 'my',\n",
    " 'deepest',\n",
    " 'wishes']\n",
    "\n",
    "found_trees = False\n",
    "for tree in parser.parse(tokens1_correct):\n",
    "    tree.draw()\n",
    "    found_trees = True\n"
   ]
  },
  {
   "cell_type": "code",
   "execution_count": null,
   "metadata": {},
   "outputs": [],
   "source": [
    "roles1 = {\n",
    "    'i': \"Pronoun\",\n",
    "    'hope': \"V\",\n",
    "    'you': \"Pronoun\",\n",
    "    'enjoy': \"V\",\n",
    "    'it': \"Pronoun\",\n",
    "    'as_well': \"Adv\",\n",
    "    'with': \"Prep\",\n",
    "    'my': \"PossPronoun\",\n",
    "    'deepest': \"Adj\",\n",
    "    'wishes': \"N\"\n",
    "}\n"
   ]
  },
  {
   "cell_type": "code",
   "execution_count": null,
   "metadata": {},
   "outputs": [],
   "source": [
    "roles2 = {\n",
    "    'hope': \"V\",\n",
    "    'you': \"Pronoun\",\n",
    "    'too': \"Adv\",\n",
    "    'to': \"mark\",\n",
    "    'enjoy': \"V\",\n",
    "    'it': \"Pronoun\",\n",
    "    'as': \"Prep\",\n",
    "    'my': \"PossPronoun\",\n",
    "    'deepest': \"Adj\",\n",
    "    'wishes': \"N\"\n",
    "}\n",
    "\n"
   ]
  },
  {
   "cell_type": "code",
   "execution_count": null,
   "metadata": {},
   "outputs": [
    {
     "name": "stdout",
     "output_type": "stream",
     "text": [
      "WordOriginal: hope,WordCorrect: i, Role Original: V, Role Correct: Pronoun\n",
      "WordOriginal: you,WordCorrect: hope, Role Original: Pronoun, Role Correct: V\n",
      "WordOriginal: too,WordCorrect: you, Role Original: Adv, Role Correct: Pronoun\n",
      "WordOriginal: to,WordCorrect: enjoy, Role Original: mark, Role Correct: V\n",
      "WordOriginal: enjoy,WordCorrect: it, Role Original: V, Role Correct: Pronoun\n",
      "WordOriginal: it,WordCorrect: as_well, Role Original: Pronoun, Role Correct: Adv\n",
      "WordOriginal: as,WordCorrect: with, Role Original: Prep, Role Correct: Prep\n",
      "WordOriginal: my,WordCorrect: my, Role Original: PossPronoun, Role Correct: PossPronoun\n",
      "WordOriginal: deepest,WordCorrect: deepest, Role Original: Adj, Role Correct: Adj\n",
      "WordOriginal: wishes,WordCorrect: wishes, Role Original: N, Role Correct: N\n",
      "Corrected Sentence 1:\n"
     ]
    }
   ],
   "source": [
    "new_sentence1 = []\n",
    "for i in range(len(tokens1)):\n",
    "    word_correct = tokens1_correct[i]\n",
    "    word_original = tokens1[i]\n",
    "\n",
    "    role_correct = roles1.get(word_correct)\n",
    "    role_original = roles2.get(word_original)\n",
    "    print(f\"WordOriginal: {word_original},WordCorrect: {word_correct}, Role Original: {role_original}, Role Correct: {role_correct}\")\n",
    "\n",
    "    if role_correct == role_original:\n",
    "        new_sentence1.append(word_original)\n",
    "    else:\n",
    "        new_sentence1.append(word_correct)\n",
    "\n",
    "if len(tokens1_correct) > len(tokens1):\n",
    "    new_sentence1.extend(tokens1_correct[len(tokens1):])\n",
    "\n",
    "print(\"Corrected Sentence 1:\")\n",
    "\n"
   ]
  },
  {
   "cell_type": "code",
   "execution_count": null,
   "metadata": {},
   "outputs": [
    {
     "name": "stdout",
     "output_type": "stream",
     "text": [
      "i hope you enjoy it as_well as my deepest wishes\n"
     ]
    }
   ],
   "source": [
    "print(\" \".join(new_sentence1))\n",
    "\n",
    "\n"
   ]
  }
 ],
 "metadata": {
  "kernelspec": {
   "display_name": "Python 3",
   "language": "python",
   "name": "python3"
  },
  "language_info": {
   "codemirror_mode": {
    "name": "ipython",
    "version": 3
   },
   "file_extension": ".py",
   "mimetype": "text/x-python",
   "name": "python",
   "nbconvert_exporter": "python",
   "pygments_lexer": "ipython3",
   "version": "3.10.11"
  }
 },
 "nbformat": 4,
 "nbformat_minor": 2
}
