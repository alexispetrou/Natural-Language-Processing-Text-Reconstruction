{
 "cells": [
  {
   "cell_type": "markdown",
   "id": "ca3be655",
   "metadata": {},
   "source": [
    "## Θα χρησιμοποιήσουμε το spelchecker το οποίο όπως δηλώνει και το όνομα του ελέγχει για ορθογραφικά λάθη"
   ]
  },
  {
   "cell_type": "code",
   "execution_count": 2,
   "id": "6eb1b62b",
   "metadata": {},
   "outputs": [
    {
     "ename": "ModuleNotFoundError",
     "evalue": "No module named 'indexer'",
     "output_type": "error",
     "traceback": [
      "\u001b[1;31m---------------------------------------------------------------------------\u001b[0m",
      "\u001b[1;31mModuleNotFoundError\u001b[0m                       Traceback (most recent call last)",
      "Cell \u001b[1;32mIn[2], line 2\u001b[0m\n\u001b[0;32m      1\u001b[0m \u001b[38;5;28;01mimport\u001b[39;00m\u001b[38;5;250m \u001b[39m\u001b[38;5;21;01mre\u001b[39;00m\n\u001b[1;32m----> 2\u001b[0m \u001b[38;5;28;01mfrom\u001b[39;00m\u001b[38;5;250m \u001b[39m\u001b[38;5;21;01mspellchecker\u001b[39;00m\u001b[38;5;250m \u001b[39m\u001b[38;5;28;01mimport\u001b[39;00m SpellChecker\n",
      "File \u001b[1;32mc:\\Users\\alexi\\AppData\\Local\\Programs\\Python\\Python310\\lib\\site-packages\\spellchecker\\__init__.py:2\u001b[0m\n\u001b[0;32m      1\u001b[0m \u001b[38;5;66;03m# -*- coding: utf-8 -*-\u001b[39;00m\n\u001b[1;32m----> 2\u001b[0m \u001b[38;5;28;01mfrom\u001b[39;00m\u001b[38;5;250m  \u001b[39m\u001b[38;5;21;01mspellchecker\u001b[39;00m\u001b[38;5;21;01m.\u001b[39;00m\u001b[38;5;21;01mcore\u001b[39;00m\u001b[38;5;250m \u001b[39m\u001b[38;5;28;01mimport\u001b[39;00m Spellchecker,getInstance\n",
      "File \u001b[1;32mc:\\Users\\alexi\\AppData\\Local\\Programs\\Python\\Python310\\lib\\site-packages\\spellchecker\\core.py:26\u001b[0m\n\u001b[0;32m     23\u001b[0m \u001b[38;5;28;01mimport\u001b[39;00m\u001b[38;5;250m \u001b[39m\u001b[38;5;21;01minexactsearch\u001b[39;00m\n\u001b[0;32m     24\u001b[0m \u001b[38;5;28;01mimport\u001b[39;00m\u001b[38;5;250m \u001b[39m\u001b[38;5;21;01murllib\u001b[39;00m\n\u001b[1;32m---> 26\u001b[0m \u001b[38;5;28;01mfrom\u001b[39;00m\u001b[38;5;250m \u001b[39m\u001b[38;5;21;01mindexer\u001b[39;00m\u001b[38;5;250m \u001b[39m\u001b[38;5;28;01mimport\u001b[39;00m DictionaryIndex\n\u001b[0;32m     27\u001b[0m \u001b[38;5;28;01mfrom\u001b[39;00m\u001b[38;5;250m \u001b[39m\u001b[38;5;21;01mlangdetect\u001b[39;00m\u001b[38;5;250m \u001b[39m\u001b[38;5;28;01mimport\u001b[39;00m _detect_lang\n\u001b[0;32m     29\u001b[0m __all__ \u001b[38;5;241m=\u001b[39m [\u001b[38;5;124m'\u001b[39m\u001b[38;5;124mSpellchecker\u001b[39m\u001b[38;5;124m'\u001b[39m, \u001b[38;5;124m'\u001b[39m\u001b[38;5;124mgetInstance\u001b[39m\u001b[38;5;124m'\u001b[39m]\n",
      "\u001b[1;31mModuleNotFoundError\u001b[0m: No module named 'indexer'"
     ]
    }
   ],
   "source": [
    "import re\n",
    "from spellchecker import SpellChecker"
   ]
  },
  {
   "cell_type": "markdown",
   "id": "8dac6c96",
   "metadata": {},
   "source": [
    "### Δηλώνουμε τα κειμενά μας"
   ]
  },
  {
   "cell_type": "code",
   "execution_count": null,
   "id": "7b555405",
   "metadata": {},
   "outputs": [],
   "source": [
    "text1=\"\"\"Today is our dragon boat festival, in our Chinese culture, to celebrate it with all safe and great in \n",
    "our lives. Hope you too, to enjoy it as my deepest wishes. \n",
    "Thank your message to show our words to  the doctor, as his next contract checking, to all of us. \n",
    "I got this message to see the approved message. In fact, I have received the message from  the \n",
    "professor, to show me, this, a couple of days ago.  I am very appreciated  the full support of the \n",
    "professor, for our Springer proceedings publication\"\"\"\n",
    "text2=\"\"\"During our final discuss, I told him about the new submission — the one we were waiting since \n",
    "last autumn, but the updates was confusing as it not included the full feedback from reviewer or \n",
    "maybe editor?\n",
    " Anyway, I believe the team, although bit delay and less communication at recent days, they really \n",
    "tried best for paper and cooperation. We should be grateful, I mean all of us, for the acceptance \n",
    "and efforts until the Springer link came finally last week, I think.\n",
    " Also, kindly remind me please, if the doctor still plan for the acknowledgments section edit before \n",
    "he sending again. Because I didn’t see that part final yet, or maybe I missed, I apologize if so.\n",
    " Overall, let us make sure all are safe and celebrate the outcome with strong coffee and future \n",
    "targets\"\"\""
   ]
  },
  {
   "cell_type": "markdown",
   "id": "32311b3a",
   "metadata": {},
   "source": [
    "### Κώδικας που υλοποιεί την λογική του προγράμματος"
   ]
  },
  {
   "cell_type": "code",
   "execution_count": null,
   "id": "f6cc2263",
   "metadata": {},
   "outputs": [],
   "source": [
    "spell = SpellChecker()\n",
    "\n",
    "def check_spelling(text):\n",
    "    words = re.findall(r'\\b[a-zA-Z]+\\b', text)\n",
    "    misspelled = spell.unknown(words)\n",
    "    for word in misspelled:\n",
    "        print(f\"{word} → {spell.correction(word)}\")\n",
    "\n",
    "\n",
    "print(\"Misspellings in text1:\")\n",
    "check_spelling(text1)\n",
    "\n",
    "print(\"\\nMisspellings in text2:\")\n",
    "check_spelling(text2)"
   ]
  }
 ],
 "metadata": {
  "kernelspec": {
   "display_name": "Python 3",
   "language": "python",
   "name": "python3"
  },
  "language_info": {
   "codemirror_mode": {
    "name": "ipython",
    "version": 3
   },
   "file_extension": ".py",
   "mimetype": "text/x-python",
   "name": "python",
   "nbconvert_exporter": "python",
   "pygments_lexer": "ipython3",
   "version": "3.10.11"
  }
 },
 "nbformat": 4,
 "nbformat_minor": 5
}
