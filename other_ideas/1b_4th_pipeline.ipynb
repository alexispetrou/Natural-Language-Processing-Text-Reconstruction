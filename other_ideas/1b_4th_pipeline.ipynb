{
 "cells": [
  {
   "cell_type": "markdown",
   "id": "6943e78e",
   "metadata": {},
   "source": []
  },
  {
   "cell_type": "code",
   "execution_count": 1,
   "id": "da541bfd",
   "metadata": {},
   "outputs": [],
   "source": [
    "from autocorrect import Speller\n",
    "spel=Speller(lang=\"en\")"
   ]
  },
  {
   "cell_type": "markdown",
   "id": "456274b8",
   "metadata": {},
   "source": [
    "### Δηλώνουμε τα κειμενά μας"
   ]
  },
  {
   "cell_type": "code",
   "execution_count": 2,
   "id": "9b84dbce",
   "metadata": {},
   "outputs": [],
   "source": [
    "text1=\"\"\"Today is our dragon boat festival, in our Chinese culture, to celebrate it with all safe and great in \n",
    "our lives. Hope you too, to enjoy it as my deepest wishes. \n",
    "Thank your message to show our words to  the doctor, as his next contract checking, to all of us. \n",
    "I got this message to see the approved message. In fact, I have received the message from  the \n",
    "professor, to show me, this, a couple of days ago.  I am very appreciated  the full support of the \n",
    "professor, for our Springer proceedings publication\"\"\"\n",
    "text2=\"\"\"During our final discuss, I told him about the new submission — the one we were waiting since \n",
    "last autumn, but the updates was confusing as it not included the full feedback from reviewer or \n",
    "maybe editor?\n",
    " Anyway, I believe the team, although bit delay and less communication at recent days, they really \n",
    "tried best for paper and cooperation. We should be grateful, I mean all of us, for the acceptance \n",
    "and efforts until the Springer link came finally last week, I think.\n",
    " Also, kindly remind me please, if the doctor still plan for the acknowledgments section edit before \n",
    "he sending again. Because I didn’t see that part final yet, or maybe I missed, I apologize if so.\n",
    " Overall, let us make sure all are safe and celebrate the outcome with strong coffee and future \n",
    "targets\"\"\""
   ]
  },
  {
   "cell_type": "markdown",
   "id": "59ae7e3d",
   "metadata": {},
   "source": [
    "### Αποτελέσματα"
   ]
  },
  {
   "cell_type": "code",
   "execution_count": 3,
   "id": "617786e9",
   "metadata": {},
   "outputs": [
    {
     "data": {
      "text/plain": [
       "'Today is our dragon boat festival, in our Chinese culture, to celebrate it with all safe and great in \\nour lives. Hope you too, to enjoy it as my deepest wishes. \\nThank your message to show our words to  the doctor, as his next contract checking, to all of us. \\nI got this message to see the approved message. In fact, I have received the message from  the \\nprofessor, to show me, this, a couple of days ago.  I am very appreciated  the full support of the \\nprofessor, for our Springer proceedings publication'"
      ]
     },
     "execution_count": 3,
     "metadata": {},
     "output_type": "execute_result"
    }
   ],
   "source": [
    "new_text1=spel(text1)\n",
    "new_text1"
   ]
  },
  {
   "cell_type": "code",
   "execution_count": 4,
   "id": "8bafc91c",
   "metadata": {},
   "outputs": [
    {
     "data": {
      "text/plain": [
       "'During our final discuss, I told him about the new submission — the one we were waiting since \\nlast autumn, but the updates was confusing as it not included the full feedback from reviewer or \\nmaybe editor?\\n Anyway, I believe the team, although bit delay and less communication at recent days, they really \\ntried best for paper and cooperation. We should be grateful, I mean all of us, for the acceptance \\nand efforts until the Springer link came finally last week, I think.\\n Also, kindly remind me please, if the doctor still plan for the acknowledgment section edit before \\nhe sending again. Because I didn’t see that part final yet, or maybe I missed, I apologize if so.\\n Overall, let us make sure all are safe and celebrate the outcome with strong coffee and future \\ntargets'"
      ]
     },
     "execution_count": 4,
     "metadata": {},
     "output_type": "execute_result"
    }
   ],
   "source": [
    "new_text2=spel(text2)\n",
    "new_text2"
   ]
  }
 ],
 "metadata": {
  "kernelspec": {
   "display_name": "Python 3",
   "language": "python",
   "name": "python3"
  },
  "language_info": {
   "codemirror_mode": {
    "name": "ipython",
    "version": 3
   },
   "file_extension": ".py",
   "mimetype": "text/x-python",
   "name": "python",
   "nbconvert_exporter": "python",
   "pygments_lexer": "ipython3",
   "version": "3.10.11"
  }
 },
 "nbformat": 4,
 "nbformat_minor": 5
}
