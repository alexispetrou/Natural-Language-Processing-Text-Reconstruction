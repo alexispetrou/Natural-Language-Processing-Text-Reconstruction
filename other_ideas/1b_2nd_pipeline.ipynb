{
 "cells": [
  {
   "cell_type": "code",
   "execution_count": 2,
   "id": "49869c67",
   "metadata": {},
   "outputs": [],
   "source": [
    "\n",
    "from textblob import TextBlob "
   ]
  },
  {
   "cell_type": "markdown",
   "id": "19b2465d",
   "metadata": {},
   "source": [
    "### Το pipeline που θα χρησιμοποιήσουμε είναι το textblob \n",
    "Για την ανάλυση και επεξεργασία φυσικής γλώσσας, μπορούμε εναλλακτικά να χρησιμοποιήσουμε τη βιβλιοθήκη TextBlob, η οποία προσφέρει ένα πιο φιλικό και απλοποιημένο περιβάλλον σε σχέση με το NLTK. Το TextBlob περιλαμβάνει ενσωματωμένο tokenizer και POS tagger, ενώ παρέχει και πρόσθετα εργαλεία όπως διόρθωση ορθογραφίας, ανάλυση συναισθήματος και μετάφραση.\n",
    "\n",
    "Η χρήση του TextBlob απλοποιεί σημαντικά την υλοποίηση βασικών εργασιών NLP χωρίς την ανάγκη χειροκίνητης διαχείρισης των εσωτερικών εργαλείων του NLTK, καθιστώντας το ιδανικό για πιο απλές εφαρμογές ή για χρήστες που δεν έχουν εξειδίκευση στο πεδίο της υπολογιστικής γλωσσολογίας."
   ]
  },
  {
   "cell_type": "code",
   "execution_count": 3,
   "id": "74d26b80",
   "metadata": {},
   "outputs": [
    {
     "name": "stdout",
     "output_type": "stream",
     "text": [
      "Processed Text1:\n",
      "Today is our dragon boat festival, in our Chinese culture, to celebrate it with all safe and great in \n",
      "our lives. Hope you too, to enjoy it as my deepest wishes. \n",
      "Thank your message to show our words to  the doctor, as his next contract checking, to all of us. \n",
      "I got this message to see the approved message. In fact, I have received the message from  the \n",
      "professor, to show me, this, a couple of days ago.  I am very appreciated  the full support of the \n",
      "professor, for our Printer proceedings publication\n",
      "-------------------------------------------------------------------------------------\n",
      "Processed Text2:\n",
      "During our final discuss, I told him about the new submission — the one we were waiting since \n",
      "last autumn, but the updated was confusing as it not included the full feedback from reviewed or \n",
      "maybe editor?\n",
      " Anyway, I believe the team, although bit delay and less communication at recent days, they really \n",
      "tried best for paper and cooperation. He should be grateful, I mean all of us, for the acceptance \n",
      "and efforts until the Printer link came finally last week, I think.\n",
      " Also, kindly remind me please, if the doctor still plan for the acknowledgment section edit before \n",
      "he sending again. Because I didn’t see that part final yet, or maybe I missed, I apologize if so.\n",
      " Overall, let us make sure all are safe and celebrate the outcome with strong coffee and future \n",
      "target\n"
     ]
    }
   ],
   "source": [
    "\n",
    "\n",
    "text1=\"\"\"Today is our dragon boat festival, in our Chinese culture, to celebrate it with all safe and great in \n",
    "our lives. Hope you too, to enjoy it as my deepest wishes. \n",
    "Thank your message to show our words to  the doctor, as his next contract checking, to all of us. \n",
    "I got this message to see the approved message. In fact, I have received the message from  the \n",
    "professor, to show me, this, a couple of days ago.  I am very appreciated  the full support of the \n",
    "professor, for our Springer proceedings publication\"\"\"\n",
    "text2=\"\"\"During our final discuss, I told him about the new submission — the one we were waiting since \n",
    "last autumn, but the updates was confusing as it not included the full feedback from reviewer or \n",
    "maybe editor?\n",
    " Anyway, I believe the team, although bit delay and less communication at recent days, they really \n",
    "tried best for paper and cooperation. We should be grateful, I mean all of us, for the acceptance \n",
    "and efforts until the Springer link came finally last week, I think.\n",
    " Also, kindly remind me please, if the doctor still plan for the acknowledgments section edit before \n",
    "he sending again. Because I didn’t see that part final yet, or maybe I missed, I apologize if so.\n",
    " Overall, let us make sure all are safe and celebrate the outcome with strong coffee and future \n",
    "targets\"\"\"\n",
    "\n",
    "blob = TextBlob(text1) \n",
    "corrected = blob.correct() \n",
    "print(f\"Processed Text1:\\n{corrected}\")\n",
    "print(\"-------------------------------------------------------------------------------------\")\n",
    "blob = TextBlob(text2) \n",
    "corrected = blob.correct() \n",
    "print(f\"Processed Text2:\\n{corrected}\")"
   ]
  }
 ],
 "metadata": {
  "kernelspec": {
   "display_name": "Python 3",
   "language": "python",
   "name": "python3"
  },
  "language_info": {
   "codemirror_mode": {
    "name": "ipython",
    "version": 3
   },
   "file_extension": ".py",
   "mimetype": "text/x-python",
   "name": "python",
   "nbconvert_exporter": "python",
   "pygments_lexer": "ipython3",
   "version": "3.10.11"
  }
 },
 "nbformat": 4,
 "nbformat_minor": 5
}
