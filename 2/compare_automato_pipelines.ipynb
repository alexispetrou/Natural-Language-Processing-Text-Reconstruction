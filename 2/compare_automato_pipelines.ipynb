{
 "cells": [
  {
   "cell_type": "markdown",
   "id": "bb38880f",
   "metadata": {},
   "source": [
    "## Σε αυτό το αρχείο κώδικα θα πραγματοποιηθεί σύγκριση ανάμεσα στις προτάσεις που ανακατασκευάστηκαν με αυτόματο στο ερώτημα 1Α και στις ίδιες προτάσεις που ανακατασκευάστηκαν με pipelines στο ερώτημα 1Β\n",
    "- Μία μέθοδος σύγκρισης είναι το cosine similarity "
   ]
  },
  {
   "cell_type": "markdown",
   "id": "56baaeb7",
   "metadata": {},
   "source": [
    "## Πρόταση από το αυτόματο:"
   ]
  },
  {
   "cell_type": "code",
   "execution_count": null,
   "id": "abd09811",
   "metadata": {},
   "outputs": [],
   "source": [
    "automato_sentence=\"but the updates were confusing as they did not include the full feedback the from reviewer the or maybe editor?\"\n",
    "pipeline1=\" but the updates were confusing as it did not include the full feedback from reviewer or maybe editor\"\n",
    "pipeline2=\" but the updates were confusing as it did not include the full feedback from reviewer or maybe editor\"\n",
    "pipeline3=\" But the updates were confusing as they not included . It was confusing to include feedback from reviewers or editor or reviewer\""
   ]
  },
  {
   "cell_type": "code",
   "execution_count": 2,
   "id": "cd2463e6",
   "metadata": {},
   "outputs": [],
   "source": [
    "from collections import Counter\n",
    "import numpy as np\n",
    "def cosine_similarity_logic(original_text,pipeline):\n",
    "    sentences = [original_text, pipeline]\n",
    "    tokenized = [s.lower().split() for s in sentences]\n",
    "    vocab = sorted(set(word for doc in tokenized for word in doc))\n",
    "\n",
    "    tf_matrix = []\n",
    "    for doc in tokenized:\n",
    "        word_counts = Counter(doc)\n",
    "        tf_vector = [word_counts[word] / len(doc) for word in vocab]\n",
    "        tf_matrix.append(tf_vector)\n",
    "        \n",
    "        \n",
    "    N = len(tokenized) \n",
    "    df_vector = [sum(1 for doc in tokenized if word in doc) for word in vocab]\n",
    "    idf_vector = [np.log((N + 1) / (df + 1)) + 1 for df in df_vector]\n",
    "    tfidf_matrix = np.array(tf_matrix) * np.array(idf_vector)\n",
    "    \n",
    "    \n",
    "    similarity = cosine_similarity(tfidf_matrix[0], tfidf_matrix[1])\n",
    "    print(f\"Cosine Similarity: {similarity}\")\n",
    "    \n",
    "def cosine_similarity(v1, v2):\n",
    "    return np.dot(v1, v2) / (np.linalg.norm(v1) * np.linalg.norm(v2))"
   ]
  },
  {
   "cell_type": "code",
   "execution_count": null,
   "id": "6a1cda69",
   "metadata": {},
   "outputs": [
    {
     "name": "stdout",
     "output_type": "stream",
     "text": [
      "Cosine Similarity: 0.8058880352458666\n",
      "Cosine Similarity: 0.8058880352458666\n"
     ]
    }
   ],
   "source": [
    "cosine_similarity_logic(automato_sentence,pipeline1)\n",
    "cosine_similarity_logic(automato_sentence,pipeline2)\n",
    "cosine_similarity_logic(automato_sentence,pipeline3)"
   ]
  }
 ],
 "metadata": {
  "kernelspec": {
   "display_name": "Python 3",
   "language": "python",
   "name": "python3"
  },
  "language_info": {
   "codemirror_mode": {
    "name": "ipython",
    "version": 3
   },
   "file_extension": ".py",
   "mimetype": "text/x-python",
   "name": "python",
   "nbconvert_exporter": "python",
   "pygments_lexer": "ipython3",
   "version": "3.10.11"
  }
 },
 "nbformat": 4,
 "nbformat_minor": 5
}
