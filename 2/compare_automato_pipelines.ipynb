{
 "cells": [
  {
   "cell_type": "markdown",
   "id": "bb38880f",
   "metadata": {},
   "source": [
    "## Σε αυτό το αρχείο κώδικα θα πραγματοποιηθεί σύγκριση ανάμεσα στις προτάσεις που ανακατασκευάστηκαν με αυτόματο στο ερώτημα 1Α και στις ίδιες προτάσεις που ανακατασκευάστηκαν με pipelines στο ερώτημα 1Β\n",
    "- Μία μέθοδος σύγκρισης είναι το cosine similarity "
   ]
  }
 ],
 "metadata": {
  "language_info": {
   "name": "python"
  }
 },
 "nbformat": 4,
 "nbformat_minor": 5
}
