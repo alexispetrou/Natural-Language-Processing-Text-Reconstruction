{
 "cells": [
  {
   "cell_type": "markdown",
   "id": "fc74b153",
   "metadata": {},
   "source": [
    "## Βήματα υλοποίηση του pipeline\n",
    "##### α) Διάβασμα αρχείων κειμένων\n",
    "##### β) Επιλογή pipeline\n",
    "##### γ) Ανακατασκευή του κειμένου \n",
    "\n",
    "---------------------------------------------------------------------------------------------"
   ]
  },
  {
   "cell_type": "markdown",
   "id": "914c422d",
   "metadata": {},
   "source": [
    "### α) Διάβασμα αρχείων κειμένων"
   ]
  },
  {
   "cell_type": "code",
   "execution_count": 1,
   "id": "03959194",
   "metadata": {},
   "outputs": [
    {
     "name": "stdout",
     "output_type": "stream",
     "text": [
      "File content successfully loaded into text1.\n"
     ]
    }
   ],
   "source": [
    "try: \n",
    "    with open('../text_files/text1.txt', 'r', encoding='utf-8') as file:\n",
    "        text1 = file.read()\n",
    "    print(\"File content successfully loaded into text1.\")\n",
    "except FileNotFoundError:\n",
    "    print(\"Error: The file 'text1.txt' was not found. Please make sure the file exists and the path is correct.\")\n",
    "except Exception as e:\n",
    "    print(f\"An unexpected error occurred: {e}\")"
   ]
  },
  {
   "cell_type": "code",
   "execution_count": 2,
   "id": "6202b9a3",
   "metadata": {},
   "outputs": [
    {
     "name": "stdout",
     "output_type": "stream",
     "text": [
      "File content successfully loaded into text2.\n"
     ]
    }
   ],
   "source": [
    "try:\n",
    "    with open('../text_files/text2.txt', 'r', encoding='utf-8') as file:\n",
    "        text2 = file.read()\n",
    "    print(\"File content successfully loaded into text2.\")\n",
    "except FileNotFoundError:\n",
    "    print(\"Error: The file 'text2.txt' was not found. Please make sure the file exists and the path is correct.\")\n",
    "except Exception as e:\n",
    "    print(f\"An unexpected error occurred: {e}\")"
   ]
  },
  {
   "cell_type": "markdown",
   "id": "201ac996",
   "metadata": {},
   "source": [
    "### β) Επιλογή pipeline"
   ]
  },
  {
   "cell_type": "code",
   "execution_count": 3,
   "id": "4ba5f548",
   "metadata": {},
   "outputs": [
    {
     "data": {
      "application/vnd.jupyter.widget-view+json": {
       "model_id": "79a2bed756f7438391f37334752ebde6",
       "version_major": 2,
       "version_minor": 0
      },
      "text/plain": [
       "model.safetensors:   0%|          | 0.00/1.22G [00:00<?, ?B/s]"
      ]
     },
     "metadata": {},
     "output_type": "display_data"
    },
    {
     "name": "stderr",
     "output_type": "stream",
     "text": [
      "Device set to use cpu\n"
     ]
    }
   ],
   "source": [
    "from transformers import pipeline\n",
    "\n",
    "model={\"Coherence & Flow (distilbart)\": pipeline(\"text2text-generation\", model=\"sshleifer/distilbart-cnn-12-6\")}"
   ]
  },
  {
   "cell_type": "markdown",
   "id": "6e2e0b05",
   "metadata": {},
   "source": [
    "### γ) Ανακατασκευή του κειμένου \n",
    "- Χωρίζουμε τα κείμενα σε προτάσεις"
   ]
  },
  {
   "cell_type": "code",
   "execution_count": 4,
   "id": "309819cc",
   "metadata": {},
   "outputs": [],
   "source": [
    "import nltk\n",
    "from nltk.tokenize import sent_tokenize\n",
    "\n",
    "sentences_text1 = sent_tokenize(text1)\n",
    "sentences_text2 = sent_tokenize(text2)"
   ]
  },
  {
   "cell_type": "markdown",
   "id": "0313ee3c",
   "metadata": {},
   "source": [
    "- Κάνουμε Loop για κάθε πρόταση και πραγματοποιούμε ανακατασκευή"
   ]
  },
  {
   "cell_type": "code",
   "execution_count": 5,
   "id": "39a992a6",
   "metadata": {},
   "outputs": [
    {
     "name": "stdout",
     "output_type": "stream",
     "text": [
      "Original: Today is our dragon boat festival, in our Chinese culture, to celebrate it with all safe and great in\n",
      "our lives.\n",
      "→ Transformed:  Today is our dragon boat festival, in our Chinese culture, to celebrate it with all safe and great in our lives . Celebrations include dragon boat festivals, dragon boat celebrations, and dragon boat races, in Chinese culture . We are happy to celebrate the festival with safe, great and great celebrations .\n",
      "\n",
      "Original: Hope you too, to enjoy it as my deepest wishes.\n",
      "→ Transformed:  \"Hope you too, to enjoy it as my deepest wishes. Hope you too,\" she said. \"Enjoy it as I do. My deepest wishes.\" She added that she hopes you too enjoy it, as well as the rest of the world . Enjoy it, she said, and it's a good time for you to enjoy your life .\n",
      "\n",
      "Original: Thank your message to show our words to the doctor, as his next contract checking, to all of us.\n",
      "→ Transformed:  Thank your message to show our words to the doctor, as his next contract checking, to all of us . \"Thank your message, as your next contract check is to all the us,\" she said. \"Please show us your words to him, as our next contract checks are to him\"\n",
      "\n",
      "Original: I got this message to see the approved message.\n",
      "→ Transformed:  I got this message to see the approved message. See it here for more information . Send it to iReport-in-depth . Use the weekly Newsquiz to test your knowledge of stories you saw on CNN iReport . Back to the page you came from .\n",
      "\n",
      "Original: In fact, I have received the message from the\n",
      "professor, to show me, this, a couple of days ago.\n",
      "→ Transformed:  In fact, I have received the message from the .professor, to show me, this, a couple of days ago . The professor said he had been sent a message to show this to him . He said: \"In fact, he has received the . message from . the professor to show it to me, and I am happy to see it, and it is a good thing.\"\n",
      "\n",
      "Original: I am very appreciated the full support of the\n",
      "professor, for our Springer proceedings publication.\n",
      "→ Transformed:  I am very appreciated the full support of theprofessor, for our Springer proceedings publication. I am also very grateful for the support of our Springer Proceedings publication. The Springer proceedings have been published by the University of Cambridge, Cambridge University, Cambridge and Cambridge University Press. We are happy to return to the pages of the Springer proceedings.\n",
      "\n"
     ]
    }
   ],
   "source": [
    "reconstructed_text1=\"\"\n",
    "for sentence in sentences_text1:\n",
    "     model_pipeline= model[\"Coherence & Flow (distilbart)\"]\n",
    "     result = model_pipeline(sentence, max_length=256, do_sample=False)[0][\"generated_text\"]\n",
    "     print(f\"Original: {sentence}\")\n",
    "     print(f\"→ Transformed: {result}\\n\")\n",
    "     reconstructed_text1+=result"
   ]
  },
  {
   "cell_type": "code",
   "execution_count": 6,
   "id": "2cf69a33",
   "metadata": {},
   "outputs": [
    {
     "name": "stdout",
     "output_type": "stream",
     "text": [
      "Original: During our final discuss, I told him about the new submission — the one we were waiting since\n",
      "        last autumn, but the updates was confusing as it not included the full feedback from reviewer or\n",
      "        maybe editor?\n",
      "→ Transformed:  The new submission has been submitted since last autumn, but the updates was confusing as it not included the full feedback from reviewer or reviewer or editor . During our final discuss, I told him about the new submission — the one we were waiting since autumn, he said . But the updates were confusing as they not included . It was confusing to include feedback from reviewers or editor or reviewer .\n",
      "\n",
      "Original: Anyway, I believe the team, although bit delay and less communication at recent days, they really\n",
      "        tried best for paper and cooperation.\n",
      "→ Transformed:  \"I believe the team, although bit delay and less communication, they really tried best for paper and cooperation. Anyway, I believe . I believe    team, although . bit delay  and . less communication at recent days, they . really tried to . work hard, but I believe they really worked hard .\n",
      "\n",
      "Original: We should be grateful, I mean all of us, for the acceptance\n",
      "        and efforts until the Springer link came finally last week, I think.\n",
      "→ Transformed:  We should be grateful, I mean all of us, for the acceptance of the Springer link, I think . The Springer link finally came finally last week, I'm grateful . We should all be grateful for all the support we received from the public, he says, for their efforts .\n",
      "\n",
      "Original: Also, kindly remind me please, if the doctor still plan for the acknowledgments section edit before\n",
      "        he sending again.\n",
      "→ Transformed:  The doctor still plan for the acknowledgments section edit before he sends again . Also, kindly remind me please, if the doctor still plans for the . acknowledgements section edit, please remind me that he still plan to edit before sending again. Also, please . If the doctor plans to edit again, please send him back to the page .\n",
      "\n",
      "Original: Because I didn’t see that part final yet, or maybe I missed, I apologize if so.\n",
      "→ Transformed:  Because I didn’t see that part final yet, or maybe I missed, I apologize if so . I apologize for not seeing that part of the final part of this week’s final episode . Because of that, I’m not sure if I missed that part .\n",
      "\n",
      "Original: Overall, let us make sure all are safe and celebrate the outcome with strong coffee and future\n",
      "        targets.\n",
      "→ Transformed:  CNN.com: Let us make sure all are safe and celebrate the outcome with strong coffee and future targets . Overall, let us make . all the . safety and future of the coffee industry is safe and well-liked by the world's coffee industry, says CNN .com.com's iReport .\n",
      "\n"
     ]
    }
   ],
   "source": [
    "reconstructed_text2=\"\"\n",
    "for sentence in sentences_text2:\n",
    "     model_pipeline= model[\"Coherence & Flow (distilbart)\"]\n",
    "     result = model_pipeline(sentence, max_length=256, do_sample=False)[0][\"generated_text\"]\n",
    "     print(f\"Original: {sentence}\")\n",
    "     print(f\"→ Transformed: {result}\\n\")\n",
    "     reconstructed_text2+=result"
   ]
  },
  {
   "cell_type": "markdown",
   "id": "21b458e0",
   "metadata": {},
   "source": [
    "### Αποθηκεύουμε τα ανακατασκευασμένα κείμενα"
   ]
  },
  {
   "cell_type": "code",
   "execution_count": 7,
   "id": "99c56240",
   "metadata": {},
   "outputs": [
    {
     "name": "stdout",
     "output_type": "stream",
     "text": [
      "Successfully saved reconstructed text \n"
     ]
    }
   ],
   "source": [
    "try:\n",
    "    with open(\"../text_files/third_pipeline_text1.txt\", 'w', encoding='utf-8') as outfile:\n",
    "        outfile.write(reconstructed_text1)\n",
    "    print(f\"Successfully saved reconstructed text \")\n",
    "except Exception as e:\n",
    "    print(f\"Error saving file : {e}\")"
   ]
  },
  {
   "cell_type": "code",
   "execution_count": 8,
   "id": "68d267a4",
   "metadata": {},
   "outputs": [
    {
     "name": "stdout",
     "output_type": "stream",
     "text": [
      "Successfully saved reconstructed text \n"
     ]
    }
   ],
   "source": [
    "try:\n",
    "    with open(\"../text_files/third_pipeline_text2.txt\", 'w', encoding='utf-8') as outfile:\n",
    "        outfile.write(reconstructed_text2)\n",
    "    print(f\"Successfully saved reconstructed text \")\n",
    "except Exception as e:\n",
    "    print(f\"Error saving file : {e}\")"
   ]
  }
 ],
 "metadata": {
  "kernelspec": {
   "display_name": "my_new_env",
   "language": "python",
   "name": "python3"
  },
  "language_info": {
   "codemirror_mode": {
    "name": "ipython",
    "version": 3
   },
   "file_extension": ".py",
   "mimetype": "text/x-python",
   "name": "python",
   "nbconvert_exporter": "python",
   "pygments_lexer": "ipython3",
   "version": "3.10.11"
  }
 },
 "nbformat": 4,
 "nbformat_minor": 5
}
