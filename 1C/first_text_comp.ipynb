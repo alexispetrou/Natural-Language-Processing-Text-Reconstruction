{
 "cells": [
  {
   "cell_type": "markdown",
   "id": "293c8854",
   "metadata": {},
   "source": [
    "## Σε αυτό το σημείο της εργασίες πρέπει να συγκρίνουμε τα 3 pipelines που χρησιμοποιήσαμε στο ερώτημα 1Β μεταξύ τους\n",
    "\n",
    "### Βήματα \n",
    "- Διαβάζουμε τα 3 ανακατσκευασμένα κείμενα\n",
    "- Κάνουμε σύγκριση"
   ]
  },
  {
   "cell_type": "code",
   "execution_count": 23,
   "id": "c67916b9",
   "metadata": {},
   "outputs": [],
   "source": [
    "original_text=\"\"\n",
    "pipeline1=\"\"\n",
    "pipeline2=\"\"\n",
    "pipeline3=\"\""
   ]
  },
  {
   "cell_type": "code",
   "execution_count": 24,
   "id": "1a6c002c",
   "metadata": {},
   "outputs": [
    {
     "name": "stdout",
     "output_type": "stream",
     "text": [
      "File content successfully loaded into original_text.\n"
     ]
    }
   ],
   "source": [
    "try:\n",
    "    with open('../text_files/text1.txt', 'r', encoding='utf-8') as file:\n",
    "        original_text = file.read()\n",
    "    print(\"File content successfully loaded into original_text.\")\n",
    "except FileNotFoundError:\n",
    "    print(\"Error: The file 'text1.txt' was not found. Please make sure the file exists and the path is correct.\")\n",
    "except Exception as e:\n",
    "    print(f\"An unexpected error occurred: {e}\")"
   ]
  },
  {
   "cell_type": "code",
   "execution_count": 25,
   "id": "5884379d",
   "metadata": {},
   "outputs": [
    {
     "name": "stdout",
     "output_type": "stream",
     "text": [
      "File content successfully loaded into pipeline1.\n"
     ]
    }
   ],
   "source": [
    "try:\n",
    "    with open(\"../text_files/first_pipeline_text1.txt\", 'r', encoding='utf-8') as file:\n",
    "        pipeline1 = file.read()\n",
    "    print(\"File content successfully loaded into pipeline1.\")\n",
    "except FileNotFoundError:\n",
    "    print(\"Error: Please make sure the file exists and the path is correct.\")\n",
    "except Exception as e:\n",
    "    print(f\"An unexpected error occurred: {e}\")"
   ]
  },
  {
   "cell_type": "code",
   "execution_count": 26,
   "id": "7297e65c",
   "metadata": {},
   "outputs": [
    {
     "name": "stdout",
     "output_type": "stream",
     "text": [
      "File content successfully loaded into pipeline2.\n"
     ]
    }
   ],
   "source": [
    "try:\n",
    "    with open(\"../text_files/second_pipeline_text1.txt\", 'r', encoding='utf-8') as file:\n",
    "        pipeline2 = file.read()\n",
    "    print(\"File content successfully loaded into pipeline2.\")\n",
    "except FileNotFoundError:\n",
    "    print(\"Error: Please make sure the file exists and the path is correct.\")\n",
    "except Exception as e:\n",
    "    print(f\"An unexpected error occurred: {e}\")"
   ]
  },
  {
   "cell_type": "code",
   "execution_count": 27,
   "id": "08300657",
   "metadata": {},
   "outputs": [
    {
     "name": "stdout",
     "output_type": "stream",
     "text": [
      "File content successfully loaded into pipeline3.\n"
     ]
    }
   ],
   "source": [
    "try:\n",
    "    with open(\"../text_files/third_pipeline_text1.txt\", 'r', encoding='utf-8') as file:\n",
    "        pipeline3 = file.read()\n",
    "    print(\"File content successfully loaded into pipeline3.\")\n",
    "except FileNotFoundError:\n",
    "    print(\"Error: Please make sure the file exists and the path is correct.\")\n",
    "except Exception as e:\n",
    "    print(f\"An unexpected error occurred: {e}\")"
   ]
  },
  {
   "cell_type": "markdown",
   "id": "5adf1967",
   "metadata": {},
   "source": [
    "## Αρχικά θα συγκρίνουμε το πόσο διαφέρει η κάθε ανακατασκευή από το πρωτότυπο κείμενο με μέθοδο cosine similarity"
   ]
  },
  {
   "cell_type": "code",
   "execution_count": 28,
   "id": "f47799a6",
   "metadata": {},
   "outputs": [],
   "source": [
    "from collections import Counter\n",
    "import numpy as np\n",
    "def cosine_similarity_logic(original_text,pipeline):\n",
    "    sentences = [original_text, pipeline]\n",
    "    tokenized = [s.lower().split() for s in sentences]\n",
    "    vocab = sorted(set(word for doc in tokenized for word in doc))\n",
    "\n",
    "    tf_matrix = []\n",
    "    for doc in tokenized:\n",
    "        word_counts = Counter(doc)\n",
    "        tf_vector = [word_counts[word] / len(doc) for word in vocab]\n",
    "        tf_matrix.append(tf_vector)\n",
    "        \n",
    "        \n",
    "    N = len(tokenized) \n",
    "    df_vector = [sum(1 for doc in tokenized if word in doc) for word in vocab]\n",
    "    idf_vector = [np.log((N + 1) / (df + 1)) + 1 for df in df_vector]\n",
    "    tfidf_matrix = np.array(tf_matrix) * np.array(idf_vector)\n",
    "    \n",
    "    \n",
    "    similarity = cosine_similarity(tfidf_matrix[0], tfidf_matrix[1])\n",
    "    print(f\"Cosine Similarity: {similarity}\")\n",
    "    \n",
    "def cosine_similarity(v1, v2):\n",
    "    return np.dot(v1, v2) / (np.linalg.norm(v1) * np.linalg.norm(v2))"
   ]
  },
  {
   "cell_type": "code",
   "execution_count": 29,
   "id": "44a4578d",
   "metadata": {},
   "outputs": [
    {
     "name": "stdout",
     "output_type": "stream",
     "text": [
      "Cosine Similarity: 0.909638830217755\n",
      "Cosine Similarity: 0.89091260117103\n",
      "Cosine Similarity: 0.6972463548228686\n"
     ]
    }
   ],
   "source": [
    "cosine_similarity_logic(original_text,pipeline1)\n",
    "cosine_similarity_logic(original_text,pipeline2)\n",
    "cosine_similarity_logic(original_text,pipeline3)\n",
    "\n"
   ]
  },
  {
   "cell_type": "markdown",
   "id": "56f8e8a5",
   "metadata": {},
   "source": [
    "## Ground truth κείμενο από το gemini"
   ]
  },
  {
   "cell_type": "code",
   "execution_count": 30,
   "id": "d57772ce",
   "metadata": {},
   "outputs": [],
   "source": [
    "gemini=\"\"\"Happy Dragon Boat Festival! I hope you're celebrating safely and enjoying a wonderful time.\n",
    "\n",
    "Thank you for relaying our message to the doctor regarding his contract review. I actually received the approved message from the professor a couple of days ago. I'm very grateful for the professor's full support with our Springer proceedings publication.\"\"\""
   ]
  },
  {
   "cell_type": "code",
   "execution_count": 31,
   "id": "cf9ab8bc",
   "metadata": {},
   "outputs": [
    {
     "name": "stdout",
     "output_type": "stream",
     "text": [
      "Cosine Similarity: 0.4912117852064911\n",
      "Cosine Similarity: 0.5029258632108523\n",
      "Cosine Similarity: 0.41372297221366444\n"
     ]
    }
   ],
   "source": [
    "cosine_similarity_logic(gemini,pipeline1)\n",
    "cosine_similarity_logic(gemini,pipeline2)\n",
    "cosine_similarity_logic(gemini,pipeline3)"
   ]
  },
  {
   "cell_type": "markdown",
   "id": "0801de5d",
   "metadata": {},
   "source": [
    "## Ground truth κείμενο από το deepseek"
   ]
  },
  {
   "cell_type": "code",
   "execution_count": 32,
   "id": "6b5279ce",
   "metadata": {},
   "outputs": [],
   "source": [
    "deepseek=\"\"\"Today is our Dragon Boat Festival, a cherished celebration in Chinese culture. I wish you safety, joy, and prosperity during this time—may you enjoy the festivities as deeply as I hope for you.\n",
    "\n",
    "Thank you for sharing the message regarding the doctor’s contract review. I’ve already received the approved notice from the professor a few days ago and sincerely appreciate their unwavering support for our Springer proceedings publication.\"\"\""
   ]
  },
  {
   "cell_type": "code",
   "execution_count": 33,
   "id": "a8241150",
   "metadata": {},
   "outputs": [
    {
     "name": "stdout",
     "output_type": "stream",
     "text": [
      "Cosine Similarity: 0.4240647916966377\n",
      "Cosine Similarity: 0.4173758627748884\n",
      "Cosine Similarity: 0.3736299567629978\n"
     ]
    }
   ],
   "source": [
    "cosine_similarity_logic(deepseek,pipeline1)\n",
    "cosine_similarity_logic(deepseek,pipeline2)\n",
    "cosine_similarity_logic(deepseek,pipeline3)"
   ]
  },
  {
   "cell_type": "markdown",
   "id": "9ec1c99e",
   "metadata": {},
   "source": [
    "## Ground truth κείμενο από το chat gpt"
   ]
  },
  {
   "cell_type": "code",
   "execution_count": 34,
   "id": "7a85a547",
   "metadata": {},
   "outputs": [],
   "source": [
    "chat_gpt=\"\"\"Today is our Dragon Boat Festival, a special celebration in our Chinese culture. It is a time to honor and wish for safety and prosperity in our lives. I hope you also enjoy this festival, as I send you my warmest wishes.\n",
    "\n",
    "Thank you for your message and for conveying our words to the doctor regarding his upcoming contract review. This is important for all of us.\n",
    "\n",
    "I received this message to confirm the approval. Actually, the professor shared this with me a couple of days ago. I truly appreciate the professor’s full support for our Springer proceedings publication.\"\"\""
   ]
  },
  {
   "cell_type": "code",
   "execution_count": 35,
   "id": "24b9a4ec",
   "metadata": {},
   "outputs": [
    {
     "name": "stdout",
     "output_type": "stream",
     "text": [
      "Cosine Similarity: 0.6111970629422422\n",
      "Cosine Similarity: 0.6211219678610983\n",
      "Cosine Similarity: 0.49879739978083254\n"
     ]
    }
   ],
   "source": [
    "cosine_similarity_logic(chat_gpt,pipeline1)\n",
    "cosine_similarity_logic(chat_gpt,pipeline2)\n",
    "cosine_similarity_logic(chat_gpt,pipeline3)"
   ]
  }
 ],
 "metadata": {
  "kernelspec": {
   "display_name": "Python 3",
   "language": "python",
   "name": "python3"
  },
  "language_info": {
   "codemirror_mode": {
    "name": "ipython",
    "version": 3
   },
   "file_extension": ".py",
   "mimetype": "text/x-python",
   "name": "python",
   "nbconvert_exporter": "python",
   "pygments_lexer": "ipython3",
   "version": "3.10.11"
  }
 },
 "nbformat": 4,
 "nbformat_minor": 5
}
